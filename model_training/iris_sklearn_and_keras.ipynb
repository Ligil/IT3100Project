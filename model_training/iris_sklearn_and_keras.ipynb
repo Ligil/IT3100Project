{
 "cells": [
  {
   "cell_type": "markdown",
   "id": "4011f981",
   "metadata": {},
   "source": [
    "# Iris Classifier Trainer\n",
    "\n",
    "This Notebook trains a Scikit Learn and Keras model for classifying Iris species."
   ]
  },
  {
   "cell_type": "markdown",
   "id": "7dec8c70",
   "metadata": {},
   "source": [
    "## Scikit Learn"
   ]
  },
  {
   "cell_type": "code",
   "execution_count": 143,
   "id": "306b7e90",
   "metadata": {},
   "outputs": [],
   "source": [
    "import pandas as pd\n",
    "from sklearn.model_selection import train_test_split\n",
    "from sklearn.ensemble import RandomForestClassifier\n",
    "from sklearn.metrics import classification_report\n",
    "from sklearn.metrics import confusion_matrix\n",
    "import seaborn as sns"
   ]
  },
  {
   "cell_type": "code",
   "execution_count": 144,
   "id": "8679e105",
   "metadata": {},
   "outputs": [
    {
     "data": {
      "text/plain": [
       "['irisclassifier.joblib']"
      ]
     },
     "execution_count": 144,
     "metadata": {},
     "output_type": "execute_result"
    }
   ],
   "source": [
    "import numpy as np\n",
    "df = pd.read_csv(\"iris.csv\")\n",
    "target = ['Iris-setosa', 'Iris-versicolor', 'Iris-virginica']\n",
    "x = df[[\"SepalLengthCm\", \"SepalWidthCm\", \"PetalLengthCm\", \"PetalWidthCm\"]].to_numpy()\n",
    "y = [target.index(row[\"Species\"]) for index, row in df.iterrows()]\n",
    "\n",
    "x_train, x_test, y_train, y_test = train_test_split(x, y, test_size=0.2, random_state=1)\n",
    "classifier = RandomForestClassifier()\n",
    "classifier.fit(x_train, y_train)\n",
    "\n",
    "from joblib import dump, load\n",
    "dump(classifier, 'irisclassifier.joblib') "
   ]
  },
  {
   "cell_type": "markdown",
   "id": "78762f0e",
   "metadata": {},
   "source": [
    "### Training Data"
   ]
  },
  {
   "cell_type": "code",
   "execution_count": 145,
   "id": "bd49eb1b",
   "metadata": {},
   "outputs": [
    {
     "name": "stdout",
     "output_type": "stream",
     "text": [
      "              precision    recall  f1-score   support\n",
      "\n",
      "           0       1.00      1.00      1.00        39\n",
      "           1       1.00      1.00      1.00        37\n",
      "           2       1.00      1.00      1.00        44\n",
      "\n",
      "    accuracy                           1.00       120\n",
      "   macro avg       1.00      1.00      1.00       120\n",
      "weighted avg       1.00      1.00      1.00       120\n",
      "\n"
     ]
    },
    {
     "data": {
      "text/plain": [
       "<AxesSubplot:>"
      ]
     },
     "execution_count": 145,
     "metadata": {},
     "output_type": "execute_result"
    },
    {
     "data": {
      "image/png": "[encoded data removed]",
      "text/plain": [
       "<Figure size 432x288 with 2 Axes>"
      ]
     },
     "metadata": {
      "needs_background": "light"
     },
     "output_type": "display_data"
    }
   ],
   "source": [
    "y_train_pred = classifier.predict(x_train)\n",
    "print(classification_report(y_train, y_train_pred))\n",
    "cm = confusion_matrix(y_train, y_train_pred)\n",
    "sns.heatmap(cm, annot=True)\n"
   ]
  },
  {
   "cell_type": "markdown",
   "id": "2bc696e5",
   "metadata": {},
   "source": [
    "### Test Data"
   ]
  },
  {
   "cell_type": "code",
   "execution_count": 138,
   "id": "54ae019d",
   "metadata": {},
   "outputs": [
    {
     "name": "stdout",
     "output_type": "stream",
     "text": [
      "              precision    recall  f1-score   support\n",
      "\n",
      "           0       1.00      1.00      1.00         8\n",
      "           1       0.89      0.89      0.89         9\n",
      "           2       0.92      0.92      0.92        13\n",
      "\n",
      "    accuracy                           0.93        30\n",
      "   macro avg       0.94      0.94      0.94        30\n",
      "weighted avg       0.93      0.93      0.93        30\n",
      "\n"
     ]
    },
    {
     "data": {
      "text/plain": [
       "<AxesSubplot:>"
      ]
     },
     "execution_count": 138,
     "metadata": {},
     "output_type": "execute_result"
    },
    {
     "data": {
      "image/png": "[encoded data removed]",
      "text/plain": [
       "<Figure size 432x288 with 2 Axes>"
      ]
     },
     "metadata": {
      "needs_background": "light"
     },
     "output_type": "display_data"
    }
   ],
   "source": [
    "y_test_pred = classifier.predict(x_test)\n",
    "print(classification_report(y_test, y_test_pred))\n",
    "cm = confusion_matrix(y_test, y_test_pred)\n",
    "sns.heatmap(cm, annot=True)"
   ]
  },
  {
   "cell_type": "markdown",
   "id": "037454f0",
   "metadata": {},
   "source": [
    "## Keras"
   ]
  },
  {
   "cell_type": "code",
   "execution_count": 146,
   "id": "f3cc7168",
   "metadata": {},
   "outputs": [
    {
     "name": "stdout",
     "output_type": "stream",
     "text": [
      "WARNING:tensorflow:Please add `keras.layers.InputLayer` instead of `keras.Input` to Sequential model. `keras.Input` is intended to be used by Functional model.\n",
      "Model: \"sequential_14\"\n",
      "_________________________________________________________________\n",
      "Layer (type)                 Output Shape              Param #   \n",
      "=================================================================\n",
      "dense_26 (Dense)             (None, 64)                320       \n",
      "_________________________________________________________________\n",
      "dense_27 (Dense)             (None, 3)                 195       \n",
      "=================================================================\n",
      "Total params: 515\n",
      "Trainable params: 515\n",
      "Non-trainable params: 0\n",
      "_________________________________________________________________\n",
      "Epoch 1/200\n",
      "4/4 [==============================] - 0s 42ms/step - loss: 2.7833 - accuracy: 0.3667 - val_loss: 3.4803 - val_accuracy: 0.2000\n",
      "Epoch 2/200\n",
      "4/4 [==============================] - 0s 7ms/step - loss: 2.4667 - accuracy: 0.3667 - val_loss: 3.0870 - val_accuracy: 0.2000\n",
      "Epoch 3/200\n",
      "4/4 [==============================] - 0s 7ms/step - loss: 2.2091 - accuracy: 0.3667 - val_loss: 2.7444 - val_accuracy: 0.2000\n",
      "Epoch 4/200\n",
      "4/4 [==============================] - 0s 7ms/step - loss: 1.9721 - accuracy: 0.3667 - val_loss: 2.4456 - val_accuracy: 0.2667\n",
      "Epoch 5/200\n",
      "4/4 [==============================] - 0s 7ms/step - loss: 1.7715 - accuracy: 0.6083 - val_loss: 2.1670 - val_accuracy: 0.5667\n",
      "Epoch 6/200\n",
      "4/4 [==============================] - 0s 7ms/step - loss: 1.5779 - accuracy: 0.6917 - val_loss: 1.9028 - val_accuracy: 0.5667\n",
      "Epoch 7/200\n",
      "4/4 [==============================] - 0s 7ms/step - loss: 1.3912 - accuracy: 0.6917 - val_loss: 1.6565 - val_accuracy: 0.5667\n",
      "Epoch 8/200\n",
      "4/4 [==============================] - 0s 8ms/step - loss: 1.2187 - accuracy: 0.6917 - val_loss: 1.4249 - val_accuracy: 0.5667\n",
      "Epoch 9/200\n",
      "4/4 [==============================] - 0s 7ms/step - loss: 1.0656 - accuracy: 0.6917 - val_loss: 1.2084 - val_accuracy: 0.5667\n",
      "Epoch 10/200\n",
      "4/4 [==============================] - 0s 7ms/step - loss: 0.9183 - accuracy: 0.6917 - val_loss: 1.0174 - val_accuracy: 0.5667\n",
      "Epoch 11/200\n",
      "4/4 [==============================] - 0s 7ms/step - loss: 0.8034 - accuracy: 0.6917 - val_loss: 0.8580 - val_accuracy: 0.5667\n",
      "Epoch 12/200\n",
      "4/4 [==============================] - 0s 6ms/step - loss: 0.7302 - accuracy: 0.6917 - val_loss: 0.7422 - val_accuracy: 0.5667\n",
      "Epoch 13/200\n",
      "4/4 [==============================] - 0s 8ms/step - loss: 0.6823 - accuracy: 0.6917 - val_loss: 0.6715 - val_accuracy: 0.5667\n",
      "Epoch 14/200\n",
      "4/4 [==============================] - 0s 6ms/step - loss: 0.6593 - accuracy: 0.6833 - val_loss: 0.6331 - val_accuracy: 0.8000\n",
      "Epoch 15/200\n",
      "4/4 [==============================] - 0s 8ms/step - loss: 0.6491 - accuracy: 0.6333 - val_loss: 0.6114 - val_accuracy: 0.8333\n",
      "Epoch 16/200\n",
      "4/4 [==============================] - 0s 7ms/step - loss: 0.6311 - accuracy: 0.7083 - val_loss: 0.6014 - val_accuracy: 0.8333\n",
      "Epoch 17/200\n",
      "4/4 [==============================] - 0s 7ms/step - loss: 0.6113 - accuracy: 0.7583 - val_loss: 0.5985 - val_accuracy: 0.6000\n",
      "Epoch 18/200\n",
      "4/4 [==============================] - 0s 7ms/step - loss: 0.5935 - accuracy: 0.7000 - val_loss: 0.6016 - val_accuracy: 0.5667\n",
      "Epoch 19/200\n",
      "4/4 [==============================] - 0s 7ms/step - loss: 0.5808 - accuracy: 0.6917 - val_loss: 0.6059 - val_accuracy: 0.5667\n",
      "Epoch 20/200\n",
      "4/4 [==============================] - 0s 7ms/step - loss: 0.5689 - accuracy: 0.6917 - val_loss: 0.6025 - val_accuracy: 0.5667\n",
      "Epoch 21/200\n",
      "4/4 [==============================] - 0s 6ms/step - loss: 0.5596 - accuracy: 0.6917 - val_loss: 0.5961 - val_accuracy: 0.5667\n",
      "Epoch 22/200\n",
      "4/4 [==============================] - 0s 8ms/step - loss: 0.5492 - accuracy: 0.6917 - val_loss: 0.5839 - val_accuracy: 0.5667\n",
      "Epoch 23/200\n",
      "4/4 [==============================] - 0s 7ms/step - loss: 0.5399 - accuracy: 0.6917 - val_loss: 0.5662 - val_accuracy: 0.6000\n",
      "Epoch 24/200\n",
      "4/4 [==============================] - 0s 7ms/step - loss: 0.5308 - accuracy: 0.6917 - val_loss: 0.5519 - val_accuracy: 0.6000\n",
      "Epoch 25/200\n",
      "4/4 [==============================] - 0s 7ms/step - loss: 0.5219 - accuracy: 0.6917 - val_loss: 0.5451 - val_accuracy: 0.6000\n",
      "Epoch 26/200\n",
      "4/4 [==============================] - 0s 6ms/step - loss: 0.5138 - accuracy: 0.6917 - val_loss: 0.5348 - val_accuracy: 0.6000\n",
      "Epoch 27/200\n",
      "4/4 [==============================] - 0s 7ms/step - loss: 0.5082 - accuracy: 0.7250 - val_loss: 0.5220 - val_accuracy: 0.6000\n",
      "Epoch 28/200\n",
      "4/4 [==============================] - 0s 7ms/step - loss: 0.4987 - accuracy: 0.7250 - val_loss: 0.5197 - val_accuracy: 0.6000\n",
      "Epoch 29/200\n",
      "4/4 [==============================] - 0s 7ms/step - loss: 0.4919 - accuracy: 0.7250 - val_loss: 0.5179 - val_accuracy: 0.6000\n",
      "Epoch 30/200\n",
      "4/4 [==============================] - 0s 7ms/step - loss: 0.4855 - accuracy: 0.7250 - val_loss: 0.5139 - val_accuracy: 0.6000\n",
      "Epoch 31/200\n",
      "4/4 [==============================] - 0s 7ms/step - loss: 0.4787 - accuracy: 0.7250 - val_loss: 0.5066 - val_accuracy: 0.6000\n",
      "Epoch 32/200\n",
      "4/4 [==============================] - 0s 8ms/step - loss: 0.4720 - accuracy: 0.7250 - val_loss: 0.5014 - val_accuracy: 0.6000\n",
      "Epoch 33/200\n",
      "4/4 [==============================] - 0s 7ms/step - loss: 0.4657 - accuracy: 0.7417 - val_loss: 0.4924 - val_accuracy: 0.6000\n",
      "Epoch 34/200\n",
      "4/4 [==============================] - 0s 7ms/step - loss: 0.4600 - accuracy: 0.7583 - val_loss: 0.4867 - val_accuracy: 0.6000\n",
      "Epoch 35/200\n",
      "4/4 [==============================] - 0s 6ms/step - loss: 0.4539 - accuracy: 0.7833 - val_loss: 0.4790 - val_accuracy: 0.7000\n",
      "Epoch 36/200\n",
      "4/4 [==============================] - 0s 6ms/step - loss: 0.4485 - accuracy: 0.8417 - val_loss: 0.4724 - val_accuracy: 0.7333\n",
      "Epoch 37/200\n",
      "4/4 [==============================] - 0s 6ms/step - loss: 0.4430 - accuracy: 0.8500 - val_loss: 0.4683 - val_accuracy: 0.7333\n",
      "Epoch 38/200\n",
      "4/4 [==============================] - 0s 7ms/step - loss: 0.4414 - accuracy: 0.8000 - val_loss: 0.4739 - val_accuracy: 0.6667\n",
      "Epoch 39/200\n",
      "4/4 [==============================] - 0s 6ms/step - loss: 0.4324 - accuracy: 0.8000 - val_loss: 0.4636 - val_accuracy: 0.7333\n",
      "Epoch 40/200\n",
      "4/4 [==============================] - 0s 6ms/step - loss: 0.4269 - accuracy: 0.8500 - val_loss: 0.4544 - val_accuracy: 0.7333\n",
      "Epoch 41/200\n",
      "4/4 [==============================] - 0s 7ms/step - loss: 0.4220 - accuracy: 0.8750 - val_loss: 0.4526 - val_accuracy: 0.7333\n",
      "Epoch 42/200\n",
      "4/4 [==============================] - 0s 6ms/step - loss: 0.4166 - accuracy: 0.8917 - val_loss: 0.4459 - val_accuracy: 0.7333\n",
      "Epoch 43/200\n",
      "4/4 [==============================] - 0s 6ms/step - loss: 0.4115 - accuracy: 0.9000 - val_loss: 0.4393 - val_accuracy: 0.7667\n",
      "Epoch 44/200\n",
      "4/4 [==============================] - 0s 7ms/step - loss: 0.4068 - accuracy: 0.9000 - val_loss: 0.4329 - val_accuracy: 0.8000\n",
      "Epoch 45/200\n",
      "4/4 [==============================] - 0s 6ms/step - loss: 0.4028 - accuracy: 0.9167 - val_loss: 0.4267 - val_accuracy: 0.8000\n",
      "Epoch 46/200\n",
      "4/4 [==============================] - 0s 7ms/step - loss: 0.3985 - accuracy: 0.9083 - val_loss: 0.4303 - val_accuracy: 0.7667\n",
      "Epoch 47/200\n",
      "4/4 [==============================] - 0s 7ms/step - loss: 0.3938 - accuracy: 0.9083 - val_loss: 0.4230 - val_accuracy: 0.8000\n",
      "Epoch 48/200\n",
      "4/4 [==============================] - 0s 7ms/step - loss: 0.3902 - accuracy: 0.9417 - val_loss: 0.4178 - val_accuracy: 0.8000\n",
      "Epoch 49/200\n",
      "4/4 [==============================] - 0s 7ms/step - loss: 0.3847 - accuracy: 0.9167 - val_loss: 0.4258 - val_accuracy: 0.7333\n",
      "Epoch 50/200\n",
      "4/4 [==============================] - 0s 7ms/step - loss: 0.3802 - accuracy: 0.9000 - val_loss: 0.4232 - val_accuracy: 0.7333\n",
      "Epoch 51/200\n",
      "4/4 [==============================] - 0s 7ms/step - loss: 0.3759 - accuracy: 0.9000 - val_loss: 0.4172 - val_accuracy: 0.7667\n",
      "Epoch 52/200\n",
      "4/4 [==============================] - 0s 6ms/step - loss: 0.3716 - accuracy: 0.9083 - val_loss: 0.4097 - val_accuracy: 0.8000\n",
      "Epoch 53/200\n",
      "4/4 [==============================] - 0s 8ms/step - loss: 0.3672 - accuracy: 0.9333 - val_loss: 0.4052 - val_accuracy: 0.8000\n",
      "Epoch 54/200\n"
     ]
    },
    {
     "name": "stdout",
     "output_type": "stream",
     "text": [
      "4/4 [==============================] - 0s 7ms/step - loss: 0.3643 - accuracy: 0.9500 - val_loss: 0.3949 - val_accuracy: 0.8667\n",
      "Epoch 55/200\n",
      "4/4 [==============================] - 0s 7ms/step - loss: 0.3594 - accuracy: 0.9500 - val_loss: 0.3939 - val_accuracy: 0.8667\n",
      "Epoch 56/200\n",
      "4/4 [==============================] - 0s 8ms/step - loss: 0.3552 - accuracy: 0.9500 - val_loss: 0.3925 - val_accuracy: 0.8667\n",
      "Epoch 57/200\n",
      "4/4 [==============================] - 0s 6ms/step - loss: 0.3532 - accuracy: 0.9500 - val_loss: 0.3967 - val_accuracy: 0.8000\n",
      "Epoch 58/200\n",
      "4/4 [==============================] - 0s 6ms/step - loss: 0.3481 - accuracy: 0.9500 - val_loss: 0.3871 - val_accuracy: 0.8667\n",
      "Epoch 59/200\n",
      "4/4 [==============================] - 0s 7ms/step - loss: 0.3439 - accuracy: 0.9500 - val_loss: 0.3800 - val_accuracy: 0.8667\n",
      "Epoch 60/200\n",
      "4/4 [==============================] - 0s 6ms/step - loss: 0.3403 - accuracy: 0.9583 - val_loss: 0.3750 - val_accuracy: 0.8667\n",
      "Epoch 61/200\n",
      "4/4 [==============================] - 0s 7ms/step - loss: 0.3373 - accuracy: 0.9583 - val_loss: 0.3748 - val_accuracy: 0.8667\n",
      "Epoch 62/200\n",
      "4/4 [==============================] - 0s 7ms/step - loss: 0.3331 - accuracy: 0.9667 - val_loss: 0.3673 - val_accuracy: 0.9000\n",
      "Epoch 63/200\n",
      "4/4 [==============================] - 0s 7ms/step - loss: 0.3294 - accuracy: 0.9667 - val_loss: 0.3667 - val_accuracy: 0.8667\n",
      "Epoch 64/200\n",
      "4/4 [==============================] - 0s 7ms/step - loss: 0.3261 - accuracy: 0.9667 - val_loss: 0.3670 - val_accuracy: 0.8667\n",
      "Epoch 65/200\n",
      "4/4 [==============================] - 0s 7ms/step - loss: 0.3223 - accuracy: 0.9667 - val_loss: 0.3616 - val_accuracy: 0.8667\n",
      "Epoch 66/200\n",
      "4/4 [==============================] - 0s 7ms/step - loss: 0.3189 - accuracy: 0.9667 - val_loss: 0.3578 - val_accuracy: 0.9000\n",
      "Epoch 67/200\n",
      "4/4 [==============================] - 0s 7ms/step - loss: 0.3152 - accuracy: 0.9667 - val_loss: 0.3564 - val_accuracy: 0.9000\n",
      "Epoch 68/200\n",
      "4/4 [==============================] - 0s 6ms/step - loss: 0.3118 - accuracy: 0.9667 - val_loss: 0.3525 - val_accuracy: 0.9000\n",
      "Epoch 69/200\n",
      "4/4 [==============================] - 0s 7ms/step - loss: 0.3085 - accuracy: 0.9667 - val_loss: 0.3484 - val_accuracy: 0.9000\n",
      "Epoch 70/200\n",
      "4/4 [==============================] - 0s 7ms/step - loss: 0.3054 - accuracy: 0.9667 - val_loss: 0.3459 - val_accuracy: 0.9000\n",
      "Epoch 71/200\n",
      "4/4 [==============================] - 0s 6ms/step - loss: 0.3034 - accuracy: 0.9667 - val_loss: 0.3494 - val_accuracy: 0.8667\n",
      "Epoch 72/200\n",
      "4/4 [==============================] - 0s 6ms/step - loss: 0.2990 - accuracy: 0.9667 - val_loss: 0.3444 - val_accuracy: 0.9000\n",
      "Epoch 73/200\n",
      "4/4 [==============================] - 0s 7ms/step - loss: 0.2965 - accuracy: 0.9667 - val_loss: 0.3324 - val_accuracy: 0.9333\n",
      "Epoch 74/200\n",
      "4/4 [==============================] - 0s 6ms/step - loss: 0.2927 - accuracy: 0.9667 - val_loss: 0.3311 - val_accuracy: 0.9333\n",
      "Epoch 75/200\n",
      "4/4 [==============================] - 0s 7ms/step - loss: 0.2894 - accuracy: 0.9667 - val_loss: 0.3274 - val_accuracy: 0.9333\n",
      "Epoch 76/200\n",
      "4/4 [==============================] - 0s 6ms/step - loss: 0.2863 - accuracy: 0.9667 - val_loss: 0.3262 - val_accuracy: 0.9333\n",
      "Epoch 77/200\n",
      "4/4 [==============================] - 0s 7ms/step - loss: 0.2832 - accuracy: 0.9667 - val_loss: 0.3257 - val_accuracy: 0.9000\n",
      "Epoch 78/200\n",
      "4/4 [==============================] - 0s 7ms/step - loss: 0.2811 - accuracy: 0.9667 - val_loss: 0.3278 - val_accuracy: 0.9000\n",
      "Epoch 79/200\n",
      "4/4 [==============================] - 0s 6ms/step - loss: 0.2779 - accuracy: 0.9667 - val_loss: 0.3175 - val_accuracy: 0.9333\n",
      "Epoch 80/200\n",
      "4/4 [==============================] - 0s 7ms/step - loss: 0.2749 - accuracy: 0.9667 - val_loss: 0.3125 - val_accuracy: 0.9667\n",
      "Epoch 81/200\n",
      "4/4 [==============================] - 0s 7ms/step - loss: 0.2714 - accuracy: 0.9667 - val_loss: 0.3136 - val_accuracy: 0.9333\n",
      "Epoch 82/200\n",
      "4/4 [==============================] - 0s 7ms/step - loss: 0.2701 - accuracy: 0.9667 - val_loss: 0.3179 - val_accuracy: 0.9000\n",
      "Epoch 83/200\n",
      "4/4 [==============================] - 0s 7ms/step - loss: 0.2659 - accuracy: 0.9667 - val_loss: 0.3083 - val_accuracy: 0.9667\n",
      "Epoch 84/200\n",
      "4/4 [==============================] - 0s 6ms/step - loss: 0.2641 - accuracy: 0.9667 - val_loss: 0.3067 - val_accuracy: 0.9333\n",
      "Epoch 85/200\n",
      "4/4 [==============================] - 0s 7ms/step - loss: 0.2601 - accuracy: 0.9667 - val_loss: 0.2994 - val_accuracy: 0.9667\n",
      "Epoch 86/200\n",
      "4/4 [==============================] - 0s 7ms/step - loss: 0.2587 - accuracy: 0.9750 - val_loss: 0.2929 - val_accuracy: 0.9667\n",
      "Epoch 87/200\n",
      "4/4 [==============================] - 0s 8ms/step - loss: 0.2552 - accuracy: 0.9750 - val_loss: 0.2942 - val_accuracy: 0.9667\n",
      "Epoch 88/200\n",
      "4/4 [==============================] - 0s 7ms/step - loss: 0.2529 - accuracy: 0.9667 - val_loss: 0.3012 - val_accuracy: 0.9000\n",
      "Epoch 89/200\n",
      "4/4 [==============================] - 0s 7ms/step - loss: 0.2498 - accuracy: 0.9667 - val_loss: 0.2981 - val_accuracy: 0.9333\n",
      "Epoch 90/200\n",
      "4/4 [==============================] - 0s 7ms/step - loss: 0.2472 - accuracy: 0.9667 - val_loss: 0.2928 - val_accuracy: 0.9667\n",
      "Epoch 91/200\n",
      "4/4 [==============================] - 0s 6ms/step - loss: 0.2445 - accuracy: 0.9667 - val_loss: 0.2885 - val_accuracy: 0.9667\n",
      "Epoch 92/200\n",
      "4/4 [==============================] - 0s 6ms/step - loss: 0.2428 - accuracy: 0.9750 - val_loss: 0.2796 - val_accuracy: 0.9667\n",
      "Epoch 93/200\n",
      "4/4 [==============================] - 0s 6ms/step - loss: 0.2399 - accuracy: 0.9750 - val_loss: 0.2804 - val_accuracy: 0.9667\n",
      "Epoch 94/200\n",
      "4/4 [==============================] - 0s 7ms/step - loss: 0.2379 - accuracy: 0.9667 - val_loss: 0.2773 - val_accuracy: 0.9667\n",
      "Epoch 95/200\n",
      "4/4 [==============================] - 0s 7ms/step - loss: 0.2347 - accuracy: 0.9667 - val_loss: 0.2795 - val_accuracy: 0.9667\n",
      "Epoch 96/200\n",
      "4/4 [==============================] - 0s 6ms/step - loss: 0.2325 - accuracy: 0.9667 - val_loss: 0.2793 - val_accuracy: 0.9667\n",
      "Epoch 97/200\n",
      "4/4 [==============================] - 0s 7ms/step - loss: 0.2300 - accuracy: 0.9667 - val_loss: 0.2823 - val_accuracy: 0.9333\n",
      "Epoch 98/200\n",
      "4/4 [==============================] - 0s 7ms/step - loss: 0.2283 - accuracy: 0.9667 - val_loss: 0.2778 - val_accuracy: 0.9667\n",
      "Epoch 99/200\n",
      "4/4 [==============================] - 0s 6ms/step - loss: 0.2259 - accuracy: 0.9667 - val_loss: 0.2750 - val_accuracy: 0.9667\n",
      "Epoch 100/200\n",
      "4/4 [==============================] - 0s 6ms/step - loss: 0.2235 - accuracy: 0.9667 - val_loss: 0.2694 - val_accuracy: 0.9667\n",
      "Epoch 101/200\n",
      "4/4 [==============================] - 0s 7ms/step - loss: 0.2209 - accuracy: 0.9750 - val_loss: 0.2622 - val_accuracy: 0.9667\n",
      "Epoch 102/200\n",
      "4/4 [==============================] - 0s 7ms/step - loss: 0.2204 - accuracy: 0.9750 - val_loss: 0.2540 - val_accuracy: 1.0000\n",
      "Epoch 103/200\n",
      "4/4 [==============================] - 0s 7ms/step - loss: 0.2178 - accuracy: 0.9750 - val_loss: 0.2581 - val_accuracy: 0.9667\n",
      "Epoch 104/200\n",
      "4/4 [==============================] - 0s 6ms/step - loss: 0.2150 - accuracy: 0.9750 - val_loss: 0.2617 - val_accuracy: 0.9667\n",
      "Epoch 105/200\n",
      "4/4 [==============================] - 0s 7ms/step - loss: 0.2131 - accuracy: 0.9667 - val_loss: 0.2592 - val_accuracy: 0.9667\n",
      "Epoch 106/200\n",
      "4/4 [==============================] - 0s 6ms/step - loss: 0.2110 - accuracy: 0.9667 - val_loss: 0.2584 - val_accuracy: 0.9667\n",
      "Epoch 107/200\n",
      "4/4 [==============================] - 0s 7ms/step - loss: 0.2091 - accuracy: 0.9667 - val_loss: 0.2548 - val_accuracy: 0.9667\n",
      "Epoch 108/200\n",
      "4/4 [==============================] - 0s 6ms/step - loss: 0.2065 - accuracy: 0.9667 - val_loss: 0.2469 - val_accuracy: 0.9667\n",
      "Epoch 109/200\n",
      "4/4 [==============================] - 0s 7ms/step - loss: 0.2053 - accuracy: 0.9750 - val_loss: 0.2420 - val_accuracy: 1.0000\n",
      "Epoch 110/200\n",
      "4/4 [==============================] - 0s 6ms/step - loss: 0.2041 - accuracy: 0.9750 - val_loss: 0.2440 - val_accuracy: 0.9667\n",
      "Epoch 111/200\n",
      "4/4 [==============================] - 0s 6ms/step - loss: 0.2014 - accuracy: 0.9750 - val_loss: 0.2441 - val_accuracy: 0.9667\n",
      "Epoch 112/200\n"
     ]
    },
    {
     "name": "stdout",
     "output_type": "stream",
     "text": [
      "4/4 [==============================] - 0s 6ms/step - loss: 0.1995 - accuracy: 0.9750 - val_loss: 0.2439 - val_accuracy: 0.9667\n",
      "Epoch 113/200\n",
      "4/4 [==============================] - 0s 8ms/step - loss: 0.1982 - accuracy: 0.9667 - val_loss: 0.2453 - val_accuracy: 0.9667\n",
      "Epoch 114/200\n",
      "4/4 [==============================] - 0s 7ms/step - loss: 0.1981 - accuracy: 0.9667 - val_loss: 0.2342 - val_accuracy: 1.0000\n",
      "Epoch 115/200\n",
      "4/4 [==============================] - 0s 6ms/step - loss: 0.1940 - accuracy: 0.9750 - val_loss: 0.2367 - val_accuracy: 0.9667\n",
      "Epoch 116/200\n",
      "4/4 [==============================] - 0s 7ms/step - loss: 0.1922 - accuracy: 0.9750 - val_loss: 0.2374 - val_accuracy: 0.9667\n",
      "Epoch 117/200\n",
      "4/4 [==============================] - 0s 7ms/step - loss: 0.1908 - accuracy: 0.9750 - val_loss: 0.2351 - val_accuracy: 0.9667\n",
      "Epoch 118/200\n",
      "4/4 [==============================] - 0s 7ms/step - loss: 0.1891 - accuracy: 0.9750 - val_loss: 0.2333 - val_accuracy: 0.9667\n",
      "Epoch 119/200\n",
      "4/4 [==============================] - 0s 7ms/step - loss: 0.1873 - accuracy: 0.9750 - val_loss: 0.2265 - val_accuracy: 0.9667\n",
      "Epoch 120/200\n",
      "4/4 [==============================] - 0s 7ms/step - loss: 0.1856 - accuracy: 0.9750 - val_loss: 0.2245 - val_accuracy: 1.0000\n",
      "Epoch 121/200\n",
      "4/4 [==============================] - 0s 7ms/step - loss: 0.1859 - accuracy: 0.9750 - val_loss: 0.2289 - val_accuracy: 0.9667\n",
      "Epoch 122/200\n",
      "4/4 [==============================] - 0s 7ms/step - loss: 0.1838 - accuracy: 0.9750 - val_loss: 0.2194 - val_accuracy: 1.0000\n",
      "Epoch 123/200\n",
      "4/4 [==============================] - 0s 7ms/step - loss: 0.1815 - accuracy: 0.9750 - val_loss: 0.2197 - val_accuracy: 1.0000\n",
      "Epoch 124/200\n",
      "4/4 [==============================] - 0s 7ms/step - loss: 0.1796 - accuracy: 0.9750 - val_loss: 0.2234 - val_accuracy: 0.9667\n",
      "Epoch 125/200\n",
      "4/4 [==============================] - 0s 7ms/step - loss: 0.1788 - accuracy: 0.9750 - val_loss: 0.2211 - val_accuracy: 0.9667\n",
      "Epoch 126/200\n",
      "4/4 [==============================] - 0s 7ms/step - loss: 0.1764 - accuracy: 0.9750 - val_loss: 0.2232 - val_accuracy: 0.9667\n",
      "Epoch 127/200\n",
      "4/4 [==============================] - 0s 7ms/step - loss: 0.1758 - accuracy: 0.9667 - val_loss: 0.2219 - val_accuracy: 0.9667\n",
      "Epoch 128/200\n",
      "4/4 [==============================] - 0s 7ms/step - loss: 0.1740 - accuracy: 0.9750 - val_loss: 0.2131 - val_accuracy: 0.9667\n",
      "Epoch 129/200\n",
      "4/4 [==============================] - 0s 7ms/step - loss: 0.1726 - accuracy: 0.9750 - val_loss: 0.2087 - val_accuracy: 1.0000\n",
      "Epoch 130/200\n",
      "4/4 [==============================] - 0s 6ms/step - loss: 0.1710 - accuracy: 0.9750 - val_loss: 0.2091 - val_accuracy: 1.0000\n",
      "Epoch 131/200\n",
      "4/4 [==============================] - 0s 7ms/step - loss: 0.1696 - accuracy: 0.9750 - val_loss: 0.2128 - val_accuracy: 0.9667\n",
      "Epoch 132/200\n",
      "4/4 [==============================] - 0s 7ms/step - loss: 0.1683 - accuracy: 0.9750 - val_loss: 0.2131 - val_accuracy: 0.9667\n",
      "Epoch 133/200\n",
      "4/4 [==============================] - 0s 8ms/step - loss: 0.1673 - accuracy: 0.9750 - val_loss: 0.2107 - val_accuracy: 0.9667\n",
      "Epoch 134/200\n",
      "4/4 [==============================] - 0s 8ms/step - loss: 0.1666 - accuracy: 0.9750 - val_loss: 0.2065 - val_accuracy: 0.9667\n",
      "Epoch 135/200\n",
      "4/4 [==============================] - 0s 9ms/step - loss: 0.1648 - accuracy: 0.9750 - val_loss: 0.2071 - val_accuracy: 0.9667\n",
      "Epoch 136/200\n",
      "4/4 [==============================] - 0s 7ms/step - loss: 0.1635 - accuracy: 0.9750 - val_loss: 0.2049 - val_accuracy: 0.9667\n",
      "Epoch 137/200\n",
      "4/4 [==============================] - 0s 7ms/step - loss: 0.1622 - accuracy: 0.9750 - val_loss: 0.1992 - val_accuracy: 1.0000\n",
      "Epoch 138/200\n",
      "4/4 [==============================] - 0s 7ms/step - loss: 0.1614 - accuracy: 0.9750 - val_loss: 0.1965 - val_accuracy: 1.0000\n",
      "Epoch 139/200\n",
      "4/4 [==============================] - 0s 7ms/step - loss: 0.1605 - accuracy: 0.9750 - val_loss: 0.2012 - val_accuracy: 0.9667\n",
      "Epoch 140/200\n",
      "4/4 [==============================] - 0s 6ms/step - loss: 0.1586 - accuracy: 0.9750 - val_loss: 0.1991 - val_accuracy: 0.9667\n",
      "Epoch 141/200\n",
      "4/4 [==============================] - 0s 7ms/step - loss: 0.1576 - accuracy: 0.9750 - val_loss: 0.1960 - val_accuracy: 1.0000\n",
      "Epoch 142/200\n",
      "4/4 [==============================] - 0s 7ms/step - loss: 0.1569 - accuracy: 0.9750 - val_loss: 0.1930 - val_accuracy: 1.0000\n",
      "Epoch 143/200\n",
      "4/4 [==============================] - 0s 7ms/step - loss: 0.1547 - accuracy: 0.9750 - val_loss: 0.1965 - val_accuracy: 0.9667\n",
      "Epoch 144/200\n",
      "4/4 [==============================] - 0s 7ms/step - loss: 0.1544 - accuracy: 0.9750 - val_loss: 0.1985 - val_accuracy: 0.9667\n",
      "Epoch 145/200\n",
      "4/4 [==============================] - 0s 7ms/step - loss: 0.1532 - accuracy: 0.9750 - val_loss: 0.1972 - val_accuracy: 0.9667\n",
      "Epoch 146/200\n",
      "4/4 [==============================] - 0s 7ms/step - loss: 0.1518 - accuracy: 0.9750 - val_loss: 0.1924 - val_accuracy: 0.9667\n",
      "Epoch 147/200\n",
      "4/4 [==============================] - 0s 7ms/step - loss: 0.1508 - accuracy: 0.9750 - val_loss: 0.1871 - val_accuracy: 1.0000\n",
      "Epoch 148/200\n",
      "4/4 [==============================] - 0s 7ms/step - loss: 0.1501 - accuracy: 0.9750 - val_loss: 0.1832 - val_accuracy: 1.0000\n",
      "Epoch 149/200\n",
      "4/4 [==============================] - 0s 6ms/step - loss: 0.1493 - accuracy: 0.9750 - val_loss: 0.1830 - val_accuracy: 1.0000\n",
      "Epoch 150/200\n",
      "4/4 [==============================] - 0s 6ms/step - loss: 0.1485 - accuracy: 0.9750 - val_loss: 0.1880 - val_accuracy: 0.9667\n",
      "Epoch 151/200\n",
      "4/4 [==============================] - 0s 7ms/step - loss: 0.1469 - accuracy: 0.9750 - val_loss: 0.1872 - val_accuracy: 0.9667\n",
      "Epoch 152/200\n",
      "4/4 [==============================] - 0s 7ms/step - loss: 0.1463 - accuracy: 0.9750 - val_loss: 0.1811 - val_accuracy: 1.0000\n",
      "Epoch 153/200\n",
      "4/4 [==============================] - 0s 6ms/step - loss: 0.1462 - accuracy: 0.9750 - val_loss: 0.1779 - val_accuracy: 1.0000\n",
      "Epoch 154/200\n",
      "4/4 [==============================] - 0s 7ms/step - loss: 0.1441 - accuracy: 0.9750 - val_loss: 0.1825 - val_accuracy: 1.0000\n",
      "Epoch 155/200\n",
      "4/4 [==============================] - 0s 7ms/step - loss: 0.1432 - accuracy: 0.9750 - val_loss: 0.1856 - val_accuracy: 0.9667\n",
      "Epoch 156/200\n",
      "4/4 [==============================] - 0s 7ms/step - loss: 0.1424 - accuracy: 0.9750 - val_loss: 0.1828 - val_accuracy: 0.9667\n",
      "Epoch 157/200\n",
      "4/4 [==============================] - 0s 6ms/step - loss: 0.1413 - accuracy: 0.9750 - val_loss: 0.1788 - val_accuracy: 1.0000\n",
      "Epoch 158/200\n",
      "4/4 [==============================] - 0s 7ms/step - loss: 0.1422 - accuracy: 0.9750 - val_loss: 0.1699 - val_accuracy: 1.0000\n",
      "Epoch 159/200\n",
      "4/4 [==============================] - 0s 7ms/step - loss: 0.1413 - accuracy: 0.9750 - val_loss: 0.1727 - val_accuracy: 1.0000\n",
      "Epoch 160/200\n",
      "4/4 [==============================] - 0s 7ms/step - loss: 0.1387 - accuracy: 0.9750 - val_loss: 0.1731 - val_accuracy: 1.0000\n",
      "Epoch 161/200\n",
      "4/4 [==============================] - 0s 7ms/step - loss: 0.1379 - accuracy: 0.9750 - val_loss: 0.1723 - val_accuracy: 1.0000\n",
      "Epoch 162/200\n",
      "4/4 [==============================] - 0s 7ms/step - loss: 0.1372 - accuracy: 0.9750 - val_loss: 0.1700 - val_accuracy: 1.0000\n",
      "Epoch 163/200\n",
      "4/4 [==============================] - 0s 7ms/step - loss: 0.1361 - accuracy: 0.9750 - val_loss: 0.1725 - val_accuracy: 1.0000\n",
      "Epoch 164/200\n",
      "4/4 [==============================] - 0s 7ms/step - loss: 0.1351 - accuracy: 0.9750 - val_loss: 0.1722 - val_accuracy: 1.0000\n",
      "Epoch 165/200\n",
      "4/4 [==============================] - 0s 7ms/step - loss: 0.1353 - accuracy: 0.9750 - val_loss: 0.1729 - val_accuracy: 0.9667\n",
      "Epoch 166/200\n",
      "4/4 [==============================] - 0s 7ms/step - loss: 0.1342 - accuracy: 0.9750 - val_loss: 0.1656 - val_accuracy: 1.0000\n",
      "Epoch 167/200\n",
      "4/4 [==============================] - 0s 7ms/step - loss: 0.1329 - accuracy: 0.9750 - val_loss: 0.1643 - val_accuracy: 1.0000\n",
      "Epoch 168/200\n",
      "4/4 [==============================] - 0s 7ms/step - loss: 0.1324 - accuracy: 0.9750 - val_loss: 0.1652 - val_accuracy: 1.0000\n",
      "Epoch 169/200\n",
      "4/4 [==============================] - 0s 7ms/step - loss: 0.1313 - accuracy: 0.9750 - val_loss: 0.1641 - val_accuracy: 1.0000\n",
      "Epoch 170/200\n"
     ]
    },
    {
     "name": "stdout",
     "output_type": "stream",
     "text": [
      "4/4 [==============================] - 0s 7ms/step - loss: 0.1308 - accuracy: 0.9750 - val_loss: 0.1642 - val_accuracy: 1.0000\n",
      "Epoch 171/200\n",
      "4/4 [==============================] - 0s 7ms/step - loss: 0.1304 - accuracy: 0.9750 - val_loss: 0.1613 - val_accuracy: 1.0000\n",
      "Epoch 172/200\n",
      "4/4 [==============================] - 0s 7ms/step - loss: 0.1300 - accuracy: 0.9750 - val_loss: 0.1660 - val_accuracy: 1.0000\n",
      "Epoch 173/200\n",
      "4/4 [==============================] - 0s 7ms/step - loss: 0.1301 - accuracy: 0.9750 - val_loss: 0.1666 - val_accuracy: 0.9667\n",
      "Epoch 174/200\n",
      "4/4 [==============================] - 0s 7ms/step - loss: 0.1286 - accuracy: 0.9750 - val_loss: 0.1578 - val_accuracy: 1.0000\n",
      "Epoch 175/200\n",
      "4/4 [==============================] - 0s 7ms/step - loss: 0.1274 - accuracy: 0.9750 - val_loss: 0.1552 - val_accuracy: 1.0000\n",
      "Epoch 176/200\n",
      "4/4 [==============================] - 0s 7ms/step - loss: 0.1273 - accuracy: 0.9750 - val_loss: 0.1548 - val_accuracy: 1.0000\n",
      "Epoch 177/200\n",
      "4/4 [==============================] - 0s 8ms/step - loss: 0.1256 - accuracy: 0.9750 - val_loss: 0.1592 - val_accuracy: 1.0000\n",
      "Epoch 178/200\n",
      "4/4 [==============================] - 0s 7ms/step - loss: 0.1246 - accuracy: 0.9750 - val_loss: 0.1636 - val_accuracy: 0.9667\n",
      "Epoch 179/200\n",
      "4/4 [==============================] - 0s 8ms/step - loss: 0.1251 - accuracy: 0.9750 - val_loss: 0.1655 - val_accuracy: 0.9667\n",
      "Epoch 180/200\n",
      "4/4 [==============================] - 0s 7ms/step - loss: 0.1247 - accuracy: 0.9750 - val_loss: 0.1599 - val_accuracy: 1.0000\n",
      "Epoch 181/200\n",
      "4/4 [==============================] - 0s 6ms/step - loss: 0.1240 - accuracy: 0.9750 - val_loss: 0.1537 - val_accuracy: 1.0000\n",
      "Epoch 182/200\n",
      "4/4 [==============================] - 0s 7ms/step - loss: 0.1226 - accuracy: 0.9750 - val_loss: 0.1528 - val_accuracy: 1.0000\n",
      "Epoch 183/200\n",
      "4/4 [==============================] - 0s 7ms/step - loss: 0.1225 - accuracy: 0.9750 - val_loss: 0.1498 - val_accuracy: 1.0000\n",
      "Epoch 184/200\n",
      "4/4 [==============================] - 0s 7ms/step - loss: 0.1235 - accuracy: 0.9750 - val_loss: 0.1557 - val_accuracy: 1.0000\n",
      "Epoch 185/200\n",
      "4/4 [==============================] - 0s 6ms/step - loss: 0.1210 - accuracy: 0.9750 - val_loss: 0.1534 - val_accuracy: 1.0000\n",
      "Epoch 186/200\n",
      "4/4 [==============================] - 0s 6ms/step - loss: 0.1201 - accuracy: 0.9750 - val_loss: 0.1496 - val_accuracy: 1.0000\n",
      "Epoch 187/200\n",
      "4/4 [==============================] - 0s 7ms/step - loss: 0.1229 - accuracy: 0.9750 - val_loss: 0.1447 - val_accuracy: 1.0000\n",
      "Epoch 188/200\n",
      "4/4 [==============================] - 0s 6ms/step - loss: 0.1195 - accuracy: 0.9750 - val_loss: 0.1506 - val_accuracy: 1.0000\n",
      "Epoch 189/200\n",
      "4/4 [==============================] - 0s 6ms/step - loss: 0.1185 - accuracy: 0.9750 - val_loss: 0.1526 - val_accuracy: 1.0000\n",
      "Epoch 190/200\n",
      "4/4 [==============================] - 0s 7ms/step - loss: 0.1184 - accuracy: 0.9750 - val_loss: 0.1517 - val_accuracy: 1.0000\n",
      "Epoch 191/200\n",
      "4/4 [==============================] - 0s 7ms/step - loss: 0.1179 - accuracy: 0.9750 - val_loss: 0.1448 - val_accuracy: 1.0000\n",
      "Epoch 192/200\n",
      "4/4 [==============================] - 0s 6ms/step - loss: 0.1169 - accuracy: 0.9750 - val_loss: 0.1450 - val_accuracy: 1.0000\n",
      "Epoch 193/200\n",
      "4/4 [==============================] - 0s 7ms/step - loss: 0.1166 - accuracy: 0.9750 - val_loss: 0.1426 - val_accuracy: 1.0000\n",
      "Epoch 194/200\n",
      "4/4 [==============================] - 0s 7ms/step - loss: 0.1163 - accuracy: 0.9750 - val_loss: 0.1440 - val_accuracy: 1.0000\n",
      "Epoch 195/200\n",
      "4/4 [==============================] - 0s 7ms/step - loss: 0.1154 - accuracy: 0.9750 - val_loss: 0.1450 - val_accuracy: 1.0000\n",
      "Epoch 196/200\n",
      "4/4 [==============================] - 0s 6ms/step - loss: 0.1148 - accuracy: 0.9750 - val_loss: 0.1433 - val_accuracy: 1.0000\n",
      "Epoch 197/200\n",
      "4/4 [==============================] - 0s 7ms/step - loss: 0.1143 - accuracy: 0.9750 - val_loss: 0.1408 - val_accuracy: 1.0000\n",
      "Epoch 198/200\n",
      "4/4 [==============================] - 0s 8ms/step - loss: 0.1137 - accuracy: 0.9750 - val_loss: 0.1405 - val_accuracy: 1.0000\n",
      "Epoch 199/200\n",
      "4/4 [==============================] - 0s 7ms/step - loss: 0.1132 - accuracy: 0.9750 - val_loss: 0.1404 - val_accuracy: 1.0000\n",
      "Epoch 200/200\n",
      "4/4 [==============================] - 0s 7ms/step - loss: 0.1128 - accuracy: 0.9750 - val_loss: 0.1405 - val_accuracy: 1.0000\n"
     ]
    }
   ],
   "source": [
    "import tensorflow as tf\n",
    "import numpy as np\n",
    "df = pd.read_csv(\"iris.csv\")\n",
    "target = ['Iris-setosa', 'Iris-versicolor', 'Iris-virginica']\n",
    "x = df[[\"SepalLengthCm\", \"SepalWidthCm\", \"PetalLengthCm\", \"PetalWidthCm\"]].to_numpy()\n",
    "y = np.array(\n",
    "    [[1 if row[\"Species\"]==target[0] else 0,\n",
    "        1 if row[\"Species\"]==target[1] else 0,\n",
    "        1 if row[\"Species\"]==target[2] else 0]\n",
    "        for index, row in df.iterrows()])\n",
    "\n",
    "x_train, x_test, y_train, y_test = train_test_split(x, y, test_size=0.2, random_state=1)\n",
    "\n",
    "model = tf.keras.Sequential()\n",
    "model.add(tf.keras.Input(shape=(4,)))\n",
    "model.add(tf.keras.layers.Dense(64, activation='relu'))\n",
    "model.add(tf.keras.layers.Dense(3, activation='softmax'))\n",
    "model.compile(\n",
    "    optimizer=\"adam\",\n",
    "    loss=\"categorical_crossentropy\",\n",
    "    metrics=[\"accuracy\"],\n",
    ")\n",
    "model.summary()\n",
    "\n",
    "model.fit(x_train, y_train, epochs=200, validation_data=(x_test, y_test))\n",
    "\n",
    "model.save(\"irisclassifier.h5\")"
   ]
  },
  {
   "cell_type": "markdown",
   "id": "d591df2c",
   "metadata": {},
   "source": [
    "### Training Data"
   ]
  },
  {
   "cell_type": "code",
   "execution_count": 147,
   "id": "2d879ffe",
   "metadata": {},
   "outputs": [
    {
     "name": "stdout",
     "output_type": "stream",
     "text": [
      "              precision    recall  f1-score   support\n",
      "\n",
      "           0       1.00      1.00      1.00        39\n",
      "           1       1.00      0.92      0.96        37\n",
      "           2       0.94      1.00      0.97        44\n",
      "\n",
      "    accuracy                           0.97       120\n",
      "   macro avg       0.98      0.97      0.97       120\n",
      "weighted avg       0.98      0.97      0.97       120\n",
      "\n"
     ]
    },
    {
     "data": {
      "text/plain": [
       "<AxesSubplot:>"
      ]
     },
     "execution_count": 147,
     "metadata": {},
     "output_type": "execute_result"
    },
    {
     "data": {
      "image/png": "[encoded data removed]",
      "text/plain": [
       "<Figure size 432x288 with 2 Axes>"
      ]
     },
     "metadata": {
      "needs_background": "light"
     },
     "output_type": "display_data"
    }
   ],
   "source": [
    "y_train_pred = model.predict(x_train)\n",
    "print(classification_report([np.argmax(y) for y in y_train], \n",
    "                            [np.argmax(y) for y in y_train_pred]))\n",
    "cm = confusion_matrix([np.argmax(y) for y in y_train], \n",
    "                      [np.argmax(y) for y in y_train_pred])\n",
    "sns.heatmap(cm, annot=True)\n",
    "\n"
   ]
  },
  {
   "cell_type": "markdown",
   "id": "6e4705ad",
   "metadata": {},
   "source": [
    "### Test Data"
   ]
  },
  {
   "cell_type": "code",
   "execution_count": 148,
   "id": "85941130",
   "metadata": {},
   "outputs": [
    {
     "name": "stdout",
     "output_type": "stream",
     "text": [
      "              precision    recall  f1-score   support\n",
      "\n",
      "           0       1.00      1.00      1.00        11\n",
      "           1       1.00      1.00      1.00        13\n",
      "           2       1.00      1.00      1.00         6\n",
      "\n",
      "    accuracy                           1.00        30\n",
      "   macro avg       1.00      1.00      1.00        30\n",
      "weighted avg       1.00      1.00      1.00        30\n",
      "\n"
     ]
    },
    {
     "data": {
      "text/plain": [
       "<AxesSubplot:>"
      ]
     },
     "execution_count": 148,
     "metadata": {},
     "output_type": "execute_result"
    },
    {
     "data": {
      "image/png": "[encoded data removed]",
      "text/plain": [
       "<Figure size 432x288 with 2 Axes>"
      ]
     },
     "metadata": {
      "needs_background": "light"
     },
     "output_type": "display_data"
    }
   ],
   "source": [
    "y_test_pred = model.predict(x_test)\n",
    "print(classification_report([np.argmax(y) for y in y_test], \n",
    "                            [np.argmax(y) for y in y_test_pred]))\n",
    "cm = confusion_matrix([np.argmax(y) for y in y_test], \n",
    "                      [np.argmax(y) for y in y_test_pred])\n",
    "sns.heatmap(cm, annot=True)"
   ]
  },
  {
   "cell_type": "code",
   "execution_count": 107,
   "id": "eb855562",
   "metadata": {},
   "outputs": [],
   "source": []
  },
  {
   "cell_type": "code",
   "execution_count": null,
   "id": "ef2fb955",
   "metadata": {},
   "outputs": [],
   "source": []
  }
 ],
 "metadata": {
  "kernelspec": {
   "display_name": "Python 3",
   "language": "python",
   "name": "python3"
  },
  "language_info": {
   "codemirror_mode": {
    "name": "ipython",
    "version": 3
   },
   "file_extension": ".py",
   "mimetype": "text/x-python",
   "name": "python",
   "nbconvert_exporter": "python",
   "pygments_lexer": "ipython3",
   "version": "3.7.10"
  }
 },
 "nbformat": 4,
 "nbformat_minor": 5
}
